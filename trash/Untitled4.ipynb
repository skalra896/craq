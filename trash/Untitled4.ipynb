{
 "cells": [
  {
   "cell_type": "code",
   "execution_count": 7,
   "id": "f434f846-6dda-495e-bde8-1fd2e4ef1e0a",
   "metadata": {},
   "outputs": [
    {
     "name": "stderr",
     "output_type": "stream",
     "text": [
      "<>:12: SyntaxWarning: \"is not\" with a literal. Did you mean \"!=\"?\n",
      "<>:12: SyntaxWarning: \"is not\" with a literal. Did you mean \"!=\"?\n",
      "/var/folders/pg/pn7xp25d7d5g6hvcrq1cxlzc0000gn/T/ipykernel_19777/157844089.py:12: SyntaxWarning: \"is not\" with a literal. Did you mean \"!=\"?\n",
      "  if index is not 0:\n"
     ]
    },
    {
     "data": {
      "text/plain": [
       "\"\\n    def closeSocket(self, tranport):\\n        # Close connection\\n        try:\\n            transport.close()\\n        except Thrift.TException as tx:\\n                print('closeSocket : %s' % (tx.message)) # TODO add host and port \\n\""
      ]
     },
     "execution_count": 7,
     "metadata": {},
     "output_type": "execute_result"
    }
   ],
   "source": [
    "class ServerHandler:\n",
    "    map = {}\n",
    "    nodesList = [\"10.10.1.1\", \"10.10.1.2\", \"10.10.1.3\"]\n",
    "    port = 9090\n",
    "    \n",
    "    def ServerHandler(self, index): \n",
    "        self.index = index\n",
    "        self.len = len(nodesList)\n",
    "        \n",
    "        if index is not len - 1:\n",
    "            self.next = makeConnection(self, nodeList[index + 1], port) \n",
    "        if index is not 0: \n",
    "            self.prev = makeConnection(self, nodeList[index - 1], port)\n",
    "            \n",
    "        tail = makeConnection(self, nodeList[len - 1], port) \n",
    "            \n",
    "\n",
    "    def write(self, key, val):\n",
    "        self.map[key] = {\"msg\" : val, \"dirtybit\" : 1} #data is dirty\n",
    "        \n",
    "        if self.next is not None: #if you have a next node. Tail has no next node\n",
    "            writeSuccessor(self, key, val)\n",
    "        if self.prev is not None: # if you hava a prev node. Head has no prev node\n",
    "            self.prev.ack(self, key)  # TODO for write request client gets any output? as per paper there is no output\n",
    "            \n",
    "        \n",
    "    def read(self, key):\n",
    "        if(self.map[key][\"dirtybit\"] == 0): #data is commited at current node\n",
    "            return self.map[key][\"msg\"]\n",
    "        \n",
    "        bitAtTail = readTail(self, key)     #check tail dirty bit\n",
    "        \n",
    "        if(bitAtTail == 0):         # tail has commited\n",
    "            return self.map[key][\"msg\"] # return data\n",
    "        \n",
    "        return None #data is not commited at tail\n",
    "    \n",
    "    def ack(self, key):\n",
    "        self.map[key][\"dirtybit\"] = 0\n",
    "        \n",
    "        if(self.map[key][\"dirtybit\"] == 0):\n",
    "            return null\n",
    "        return list[0]\n",
    "    \n",
    "    \n",
    "    def readTail(self, key): \n",
    "        bit = self.tail.read(key)\n",
    "        if bit is None: \n",
    "            return 1 \n",
    "        return 0\n",
    "        \n",
    "        \n",
    "    def writeSuccessor(self, host, port):\n",
    "        try:\n",
    "            # Run showCurrentTimestamp() method on server\n",
    "            currentTime = self.next.showCurrentTimestamp()\n",
    "            print(currentTime)\n",
    "\n",
    "        except Thrift.TException as tx:\n",
    "            print('Something went wrong : %s' % (tx.message))\n",
    "        \n",
    "\n",
    "    \n",
    "    def makeConnection(self, host, port): \n",
    "        try: \n",
    "            # Init thrift connection and protocol handlers\n",
    "            transport = TSocket.TSocket( host , port)\n",
    "            transport = TTransport.TBufferedTransport(transport)\n",
    "            protocol = TBinaryProtocol.TBinaryProtocol(transport)\n",
    "            # Set client to our Example\n",
    "            client = Example.Client(protocol)\n",
    "            # Connect to server\n",
    "            transport.open()\n",
    "        except Thrift.TException as tx:\n",
    "                print('openSocket error : %s' % (tx.message)) # TODO add host and port \n",
    "        return client\n",
    "    \n",
    "\"\"\"\n",
    "    def closeSocket(self, tranport):\n",
    "        # Close connection\n",
    "        try:\n",
    "            transport.close()\n",
    "        except Thrift.TException as tx:\n",
    "                print('closeSocket : %s' % (tx.message)) # TODO add host and port \n",
    "\"\"\"\n",
    "       "
   ]
  },
  {
   "cell_type": "code",
   "execution_count": null,
   "id": "d3592db5-f37a-499e-a23e-1efa36704915",
   "metadata": {},
   "outputs": [],
   "source": []
  },
  {
   "cell_type": "code",
   "execution_count": null,
   "id": "aa498808-043c-43f3-aba4-6bb8c9619d54",
   "metadata": {},
   "outputs": [],
   "source": []
  }
 ],
 "metadata": {
  "kernelspec": {
   "display_name": "Python 3.10.1 64-bit",
   "language": "python",
   "name": "python3"
  },
  "language_info": {
   "codemirror_mode": {
    "name": "ipython",
    "version": 3
   },
   "file_extension": ".py",
   "mimetype": "text/x-python",
   "name": "python",
   "nbconvert_exporter": "python",
   "pygments_lexer": "ipython3",
   "version": "3.10.1"
  },
  "vscode": {
   "interpreter": {
    "hash": "aee8b7b246df8f9039afb4144a1f6fd8d2ca17a180786b69acc140d282b71a49"
   }
  }
 },
 "nbformat": 4,
 "nbformat_minor": 5
}
